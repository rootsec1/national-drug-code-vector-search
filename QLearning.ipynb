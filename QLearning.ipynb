{
 "cells": [
  {
   "cell_type": "code",
   "execution_count": null,
   "id": "364039b7",
   "metadata": {},
   "outputs": [],
   "source": [
    "import numpy as np\n",
    "import pandas as pd\n",
    "from sklearn.feature_extraction.text import TfidfVectorizer\n",
    "from sklearn.metrics.pairwise import cosine_similarity\n",
    "from sklearn.preprocessing import MinMaxScaler\n",
    "\n",
    "# Load your data into a DataFrame\n",
    "df = pd.read_csv('data/RL/dataset.csv')\n",
    "\n",
    "# Define the state space\n",
    "state_space = df['goodrx_summary'].unique()\n",
    "\n",
    "# Define the action space\n",
    "action_space = df['ndc_product_id'].unique()\n",
    "\n",
    "# Initialize Q-table to zeros\n",
    "Q_table = pd.DataFrame(0, index=state_space, columns=action_space)\n",
    "\n",
    "# Define the reward function\n",
    "def reward_function(state, action):\n",
    "    match = df[(df['goodrx_summary'] == state) & (df['ndc_product_id'] == action)]\n",
    "    if match['score'].values[0] == 1:\n",
    "        return 1\n",
    "    else:\n",
    "        return -1\n",
    "\n",
    "# Define the Q-Learning algorithm\n",
    "def q_learning(state, action, alpha=0.5, gamma=0.9):\n",
    "    reward = reward_function(state, action)\n",
    "    old_q_value = Q_table.loc[state, action]\n",
    "    max_future_q = np.max(Q_table.loc[state])\n",
    "    new_q_value = (1 - alpha) * old_q_value + alpha * (reward + gamma * max_future_q)\n",
    "    Q_table.loc[state, action] = new_q_value"
   ]
  },
  {
   "cell_type": "code",
   "execution_count": null,
   "id": "cadf57f8",
   "metadata": {},
   "outputs": [],
   "source": [
    "# Training the model\n",
    "for _ in range(1000):  # Number of training iterations\n",
    "    for state in state_space:\n",
    "        for action in action_space:\n",
    "            q_learning(state, action)"
   ]
  }
 ],
 "metadata": {
  "kernelspec": {
   "display_name": "Python 3 (ipykernel)",
   "language": "python",
   "name": "python3"
  },
  "language_info": {
   "codemirror_mode": {
    "name": "ipython",
    "version": 3
   },
   "file_extension": ".py",
   "mimetype": "text/x-python",
   "name": "python",
   "nbconvert_exporter": "python",
   "pygments_lexer": "ipython3",
   "version": "3.7.16"
  }
 },
 "nbformat": 4,
 "nbformat_minor": 5
}
